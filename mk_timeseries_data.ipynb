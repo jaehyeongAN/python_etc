{
 "cells": [
  {
   "cell_type": "code",
   "execution_count": 2,
   "metadata": {},
   "outputs": [],
   "source": [
    "import numpy as np\n",
    "import pandas as pd "
   ]
  },
  {
   "cell_type": "code",
   "execution_count": 3,
   "metadata": {},
   "outputs": [],
   "source": [
    "def getSeriesData(data, window_size, elementdim=1):\n",
    "\tn_pairs = len(data) - window_size\n",
    "\txlist = [data[i:i+window_size] for i in range(n_pairs)]\n",
    "\tylist = [data[i+window_size] for i in range(n_pairs)]\n",
    "\t\n",
    "\tx = np.array(xlist, dtype=np.float32)\n",
    "\ty = np.array(ylist, dtype=np.float32)\n",
    "\t\n",
    "\treturn x, y"
   ]
  },
  {
   "cell_type": "code",
   "execution_count": 4,
   "metadata": {},
   "outputs": [
    {
     "name": "stdout",
     "output_type": "stream",
     "text": [
      "[[1. 2. 3.]\n",
      " [2. 3. 4.]\n",
      " [3. 4. 5.]\n",
      " [4. 5. 6.]\n",
      " [5. 6. 7.]\n",
      " [6. 7. 8.]\n",
      " [7. 8. 9.]]\n",
      "[ 4.  5.  6.  7.  8.  9. 10.]\n"
     ]
    }
   ],
   "source": [
    "x, y = getSeriesData([1,2,3,4,5,6,7,8,9,10], 3)\n",
    "print(x)\n",
    "print(y)"
   ]
  },
  {
   "cell_type": "code",
   "execution_count": 5,
   "metadata": {},
   "outputs": [],
   "source": [
    "def getSeriesData(data, x_size, y_size):\n",
    "    '''\n",
    "    window_size 만큼의 데이터로 다음 데이터를 예측하기 위한 학습데이터 생성\n",
    "    :param data: [1,2,3,4,5,6,7]\n",
    "    :param x_size: X데이터의 window 사이즈\n",
    "    :param y_size: Y데이터의 window 사이즈\n",
    "    :return: x=[[1,2,3], [2,3,4], [3,4,5]]  if x_size=3\n",
    "    :return: y=[  [4,5],   [5,6],   [6,7]]  if y_size=2\n",
    "    '''\n",
    "    n_pairs = len(data) - (x_size + y_size) + 1 # (x,y) pair 개수\n",
    "    xlist = [data[i:i+x_size] for i in range(n_pairs)]\n",
    "    ylist = [data[i+x_size:i+x_size+y_size] for i in range(n_pairs)]\n",
    "    x = np.array(xlist, dtype=np.float32)\n",
    "    y = np.array(ylist, dtype=np.float32)\n",
    "    return x, y"
   ]
  },
  {
   "cell_type": "code",
   "execution_count": 6,
   "metadata": {},
   "outputs": [
    {
     "name": "stdout",
     "output_type": "stream",
     "text": [
      "[[0. 1. 2.]\n",
      " [1. 2. 3.]\n",
      " [2. 3. 4.]\n",
      " [3. 4. 5.]\n",
      " [4. 5. 6.]\n",
      " [5. 6. 7.]\n",
      " [6. 7. 8.]]\n",
      "[[ 3.  4.]\n",
      " [ 4.  5.]\n",
      " [ 5.  6.]\n",
      " [ 6.  7.]\n",
      " [ 7.  8.]\n",
      " [ 8.  9.]\n",
      " [ 9. 10.]]\n"
     ]
    }
   ],
   "source": [
    "## 데이터생성 테스트하기 \n",
    "x, y = getSeriesData([i for i in range(0, 11)], 3, 2) #X는 3일, Y는 2일\n",
    "print(x)\n",
    "print(y)"
   ]
  },
  {
   "cell_type": "code",
   "execution_count": null,
   "metadata": {},
   "outputs": [],
   "source": [
    "X_SIZE = 3\n",
    "Y_SIZE = 2\n",
    "# 모델 구성하기\n",
    "model = Sequential()\n",
    "hidden_nodes = 60\n",
    "model.add(LSTM(hidden_nodes, input_shape=(X_SIZE, 5),  # 5는 1개 데이터의 차수 (시가,종가, 고가, 저가, 거래량 등 총 5개)\n",
    "               return_sequences=False))\n",
    "model.add(Dropout(0.3))\n",
    "model.add(Dense(Y_SIZE))\n",
    "model.compile(loss='mean_squared_error', optimizer='adam')"
   ]
  }
 ],
 "metadata": {
  "kernelspec": {
   "display_name": "Python 3",
   "language": "python",
   "name": "python3"
  },
  "language_info": {
   "codemirror_mode": {
    "name": "ipython",
    "version": 3
   },
   "file_extension": ".py",
   "mimetype": "text/x-python",
   "name": "python",
   "nbconvert_exporter": "python",
   "pygments_lexer": "ipython3",
   "version": "3.6.5"
  }
 },
 "nbformat": 4,
 "nbformat_minor": 2
}
